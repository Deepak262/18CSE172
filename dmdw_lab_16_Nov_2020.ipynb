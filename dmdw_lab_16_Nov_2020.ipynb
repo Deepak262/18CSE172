{
  "nbformat": 4,
  "nbformat_minor": 0,
  "metadata": {
    "colab": {
      "name": "dmdw_lab_16_Nov_2020.ipynb",
      "provenance": [],
      "authorship_tag": "ABX9TyNRsBrH/pfDBavYrp1jkgA4",
      "include_colab_link": true
    },
    "kernelspec": {
      "name": "python3",
      "display_name": "Python 3"
    }
  },
  "cells": [
    {
      "cell_type": "markdown",
      "metadata": {
        "id": "view-in-github",
        "colab_type": "text"
      },
      "source": [
        "<a href=\"https://colab.research.google.com/github/Deepak262/18CSE172/blob/main/dmdw_lab_16_Nov_2020.ipynb\" target=\"_parent\"><img src=\"https://colab.research.google.com/assets/colab-badge.svg\" alt=\"Open In Colab\"/></a>"
      ]
    },
    {
      "cell_type": "code",
      "metadata": {
        "id": "eVcTFG2FyK43",
        "outputId": "ac73e128-bdd4-486d-d28b-fcd6f91228ba",
        "colab": {
          "base_uri": "https://localhost:8080/"
        }
      },
      "source": [
        "5+3+7"
      ],
      "execution_count": 3,
      "outputs": [
        {
          "output_type": "execute_result",
          "data": {
            "text/plain": [
              "15"
            ]
          },
          "metadata": {
            "tags": []
          },
          "execution_count": 3
        }
      ]
    },
    {
      "cell_type": "code",
      "metadata": {
        "id": "PGPniPS-yRV0"
      },
      "source": [
        ""
      ],
      "execution_count": null,
      "outputs": []
    }
  ]
}